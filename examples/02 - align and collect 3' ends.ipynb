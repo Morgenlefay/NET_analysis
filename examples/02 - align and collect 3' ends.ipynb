{
 "cells": [
  {
   "cell_type": "markdown",
   "metadata": {},
   "source": [
    "## Collect 3' ends\n",
    "\n",
    "```\n",
    "###############################################################################\n",
    "# NET-Seq analysis pipeline\n",
    "#\n",
    "# The script assumes that sample .fastq files are organized as follows:\n",
    "#\n",
    "# ..-data\n",
    "#    |\n",
    "#    |-sample1\n",
    "#    | |-sample1.fastq.gz\n",
    "#    |\n",
    "#    |-sample2\n",
    "#    | |-sample2.fastq.gz\n",
    "#    .....\n",
    "#    and so on.\n",
    "###############################################################################\n",
    "```"
   ]
  },
  {
   "cell_type": "code",
   "execution_count": null,
   "metadata": {},
   "outputs": [],
   "source": [
    "index=\"../ref/MG1655\"\n",
    "base_data=\"../data\"\n",
    "base_results=\"../results\"\n",
    "\n",
    "NUMPROC=30 # For snowflake, adjust as needed\n",
    "READLEN=20 # Trim reads to this length\n",
    "\n",
    "start_time=`date +%s`\n",
    "\n",
    "for sample in $(ls $base_data)\n",
    "do\n",
    "    resultdir=\"$base_results/$sample\"\n",
    "    bedfile=\"$resultdir/$sample/${sample}_aligned.bed\"\n",
    "    grep -w '+' $bedfile \\\n",
    "        | awk '{print $1\"\\t\"$2\"\\t\"($2+1)\"\\t\"\".\"\"\\t\"$5\"\\t\"$6}' \\\n",
    "        > $resultdir/plus_3end_2.bed\n",
    "    \n",
    "    grep -w '-' $bedfile \\\n",
    "        | awk '{print $1\"\\t\"($3-1)\"\\t\"($3)\"\\t\"\".\"\"\\t\"$5\"\\t\"$6}' \\\n",
    "        > $resultdir/minus_3end_2.bed \n",
    "    \n",
    "done\n",
    "\n",
    "echo \"run time is $(expr `date +%s` - $start_time) s\""
   ]
  }
 ],
 "metadata": {
  "kernelspec": {
   "display_name": "Bash",
   "language": "bash",
   "name": "bash"
  },
  "language_info": {
   "codemirror_mode": "shell",
   "file_extension": ".sh",
   "mimetype": "text/x-sh",
   "name": "bash"
  }
 },
 "nbformat": 4,
 "nbformat_minor": 2
}
