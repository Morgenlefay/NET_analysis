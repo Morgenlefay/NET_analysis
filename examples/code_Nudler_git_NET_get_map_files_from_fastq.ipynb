{
 "cells": [
  {
   "cell_type": "code",
   "execution_count": 19,
   "metadata": {},
   "outputs": [],
   "source": [
    "import sys\n",
    "import os\n",
    "import re\n",
    "import gzip"
   ]
  },
  {
   "cell_type": "code",
   "execution_count": 24,
   "metadata": {},
   "outputs": [],
   "source": [
    "from itertools import zip_longest\n",
    "\n",
    "def grouper(infile, n, fillvalue=None):\n",
    "    args = [iter(infile)] * n\n",
    "    return zip_longest(*args, fillvalue=fillvalue)\n",
    "\n",
    "infile=os.path.join('../input_files_NETseq/wt-mmc.fastq.gz')\n",
    "outfile=os.path.join('../input_files_NETseq/Trimmed_wt-mmc.fastq.gz')\n",
    "with gzip.open(infile,'rt') as infile, gzip.open(outfile,'wt') as outfile:\n",
    "    fastq_per_read=grouper(infile,4,',')\n",
    "    for read in fastq_per_read:\n",
    "        header=read[0]\n",
    "        seq=read[1]\n",
    "        sign=read[2]\n",
    "        quality=read[3]\n",
    "        trimmed_seq=seq[0:19]\n",
    "        trimmed_quality=quality[0:19]\n",
    "        outfile.write(header + trimmed_seq + '\\n' + sign + trimmed_quality + '\\n')"
   ]
  },
  {
   "cell_type": "code",
   "execution_count": 25,
   "metadata": {},
   "outputs": [],
   "source": [
    "infile=os.path.join('../input_files_NETseq/Trimmed_wt-mmc.fastq.gz')\n",
    "outfile=os.path.join('../input_files_NETseq/clean_Trimmed_wt-mmc.fastq.gz')\n",
    "with gzip.open(infile,'rt') as infile:\n",
    "        lines = infile.readlines()\n",
    "with gzip.open(outfile, 'wt') as outfile:\n",
    "        lines = filter(lambda x: x.strip(), lines)\n",
    "        outfile.writelines(lines)"
   ]
  },
  {
   "cell_type": "code",
   "execution_count": null,
   "metadata": {},
   "outputs": [],
   "source": [
    "# next, run bowtie 1.0 with 'clean_Trimmed_wt-mmc.fastq.gz', following command:\n",
    "# ./bowtie -m 1 -v 0 U000963_index/U000963_index --suppress 1,3,6,7,8 U000963_reads/clean__Trimmed_wt-mmc.fastq.gz > wt_mmc_NET.map\n",
    "#use the amp file as input for the next jupyter notebook"
   ]
  }
 ],
 "metadata": {
  "kernelspec": {
   "display_name": "Python 3",
   "language": "python",
   "name": "python3"
  },
  "language_info": {
   "codemirror_mode": {
    "name": "ipython",
    "version": 3
   },
   "file_extension": ".py",
   "mimetype": "text/x-python",
   "name": "python",
   "nbconvert_exporter": "python",
   "pygments_lexer": "ipython3",
   "version": "3.6.7"
  }
 },
 "nbformat": 4,
 "nbformat_minor": 1
}
