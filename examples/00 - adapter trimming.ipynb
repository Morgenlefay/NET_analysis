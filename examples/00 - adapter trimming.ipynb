{
 "cells": [
  {
   "cell_type": "markdown",
   "metadata": {},
   "source": [
    "## Trimming NEB adapters\n",
    "\n",
    "```\n",
    "###############################################################################\n",
    "# NET-Seq analysis pipeline\n",
    "#\n",
    "# The script assumes that sample .fastq files are organized as follows:\n",
    "#\n",
    "# ..-data\n",
    "#    |\n",
    "#    |-sample1\n",
    "#    | |-sample1.fastq.gz\n",
    "#    |\n",
    "#    |-sample2\n",
    "#    | |-sample2.fastq.gz\n",
    "#    .....\n",
    "#    and so on.\n",
    "###############################################################################\n",
    "```"
   ]
  },
  {
   "cell_type": "code",
   "execution_count": null,
   "metadata": {},
   "outputs": [],
   "source": [
    "datadir=\"../data\"\n",
    "\n",
    "adapter1=AGATCGGAAGAGCACACGTCTGAACTCCAGTCAC\n",
    "adapter2=AGATCGGAAGAGCGTCGTGTAGGGAAAGAGTGTAGATCTCGGTGGTCGCCGTATCATT"
   ]
  },
  {
   "cell_type": "code",
   "execution_count": null,
   "metadata": {},
   "outputs": [],
   "source": [
    "start_time=`date +%s`\n",
    "\n",
    "for sample in $(ls $datadir)\n",
    "do\n",
    "    sampledir=\"$datadir/$sample\"\n",
    "    cutadapt -a $adapter1 -A $adapter2 \\\n",
    "        -o $sampledir/R1_trimmed.fastq.gz \\\n",
    "        -p $sampledir/R2_trimmed.fastq.gz \\\n",
    "        $sampledir/R1.fastq.gz $sampledir/R2.fastq.gz \\\n",
    "        > $sampledir/cutadapt_output.txt &\n",
    "done\n",
    "\n",
    "echo \"run time is $(expr `date +%s` - $start_time) s\""
   ]
  }
 ],
 "metadata": {
  "kernelspec": {
   "display_name": "Bash",
   "language": "bash",
   "name": "bash"
  },
  "language_info": {
   "codemirror_mode": "shell",
   "file_extension": ".sh",
   "mimetype": "text/x-sh",
   "name": "bash"
  }
 },
 "nbformat": 4,
 "nbformat_minor": 2
}
