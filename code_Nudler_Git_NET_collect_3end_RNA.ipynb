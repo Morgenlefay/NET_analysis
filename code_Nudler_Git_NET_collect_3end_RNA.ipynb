{
 "cells": [
  {
   "cell_type": "code",
   "execution_count": 1,
   "metadata": {
    "collapsed": true,
    "deletable": true,
    "editable": true
   },
   "outputs": [],
   "source": [
    "import sys\n",
    "import os\n",
    "import numpy as np\n",
    "import pandas as pd\n",
    "from collections import Counter\n",
    "from operator import itemgetter"
   ]
  },
  {
   "cell_type": "code",
   "execution_count": 2,
   "metadata": {
    "collapsed": true,
    "deletable": true,
    "editable": true
   },
   "outputs": [],
   "source": [
    "def rawdata(map_file):\n",
    "    lis_dicts=[]\n",
    "    pDict = {}\n",
    "    mDict = {}\n",
    "    infile = open(map_file, 'r')\n",
    "    line = infile.readline()\n",
    "    while line != '':\n",
    "        fields = line.split()\n",
    "        col1 = str(fields[0])   #strand; note: if sequencing was performed without barcode reading, the column numbering is changed\n",
    "        col2 = int(fields[1])   #left-most position\n",
    "        col3 = str(fields[2])   #footprint seq\n",
    "        length = len(col3)      #footprint length        \n",
    "        if col1 == '+': #for plus strand\n",
    "            pend5 = col2 + 1                #Bowtie uses 0-based offset: transform to 1-based and subtract 1st base \n",
    "            if pend5 in pDict:\n",
    "                pDict[pend5] += 1.0\n",
    "            else:\n",
    "                pDict[pend5] = 1.0 \n",
    "        elif col1 == '-':               #for minus strand\n",
    "            end3 = col2 + 1         #for minus strand, Bowtie gives leftmost position (3' end) with zero-based numbering\n",
    "            mend5 = end3 + length - 1\n",
    "            if mend5 in mDict:\n",
    "                mDict[mend5] += 1.0\n",
    "            else:\n",
    "                mDict[mend5] = 1.0 \n",
    "        else:\n",
    "                pass\n",
    "        line = infile.readline()\n",
    "    for pend5 in range(1,4641653):          \n",
    "        if pend5 not in pDict:\n",
    "            pDict[pend5] = 0\n",
    "    p_list=[(p, pDict[p]) for p in sorted(pDict)]\n",
    "    for mend5 in range(1,4641653):          \n",
    "        if mend5 not in mDict:\n",
    "            mDict[mend5] = 0\n",
    "    m_list=[(m, mDict[m]) for m in sorted(mDict)]\n",
    "    infile.close()\n",
    "    lis_dicts.append(p_list)\n",
    "    lis_dicts.append(m_list)\n",
    "    return lis_dicts\n",
    "\n",
    "def get_local_max_signal(lis_dicts):\n",
    "    lis_pause_lis=[]\n",
    "    for lis in lis_dicts:\n",
    "        numeric_list=[(int(pos),float(count))for pos,count in lis]\n",
    "        trunc_list=numeric_list[0:100000]\n",
    "        pause_list=[]\n",
    "        win_side=25\n",
    "        for i in range(win_side,100000-win_side): #range from list_m[0](which equals pos 1 in genome) to list_m[4639651] (not including list_m[4639651] by default)\n",
    "            window=trunc_list[(i-win_side):(i+win_side+1)] #1st window: list_m[0]-list_m[51](not including list[51] by default)\n",
    "            dic_freq=Counter(mem[1] for mem in window) #count the number oftimes each signal appear in window. goal: filter regions with multiple equal local max signal\n",
    "            win_count_lis=[count for pos,count in window]\n",
    "            win_count_mean=np.array(win_count_lis).mean()\n",
    "            win_count_std=np.array(win_count_lis).std()\n",
    "            win_count_max=max(window,key=itemgetter(1))[1]\n",
    "            if window[win_side][1]==win_count_max and dic_freq[window[win_side][1]]==1 and win_count_max>=(win_count_mean + win_count_std*5):  #identify window max for signal of reads.\n",
    "                pause_list.append(window[win_side])\n",
    "            else:\n",
    "                pass\n",
    "        lis_pause_lis.append(pause_list)\n",
    "    return lis_pause_lis\n"
   ]
  },
  {
   "cell_type": "code",
   "execution_count": 3,
   "metadata": {
    "collapsed": true,
    "deletable": true,
    "editable": true
   },
   "outputs": [],
   "source": [
    "map_file=os.path.join('netseq_tutorial/wt_mmc_NET.map')\n",
    "lis_dicts=rawdata(map_file)"
   ]
  },
  {
   "cell_type": "code",
   "execution_count": 5,
   "metadata": {
    "collapsed": false,
    "deletable": true,
    "editable": true
   },
   "outputs": [
    {
     "name": "stdout",
     "output_type": "stream",
     "text": [
      "[(67, 2.0), (258, 1517.0), (297, 424.0), (409, 105.0), (628, 22.0), (678, 19.0), (813, 23.0), (942, 17.0), (1041, 24.0), (1092, 18.0), (1214, 19.0), (1437, 10.0), (1523, 19.0), (1602, 14.0), (1689, 13.0), (2018, 12.0), (2636, 36.0), (2678, 21.0), (2726, 99.0), (3114, 18.0), (3434, 26.0), (3525, 30.0), (3597, 28.0), (3625, 10.0), (3659, 18.0), (3772, 9.0), (3801, 27.0), (3960, 26.0), (4043, 10.0), (4160, 20.0), (4262, 3.0), (4483, 23.0), (4725, 9.0), (4810, 13.0), (4949, 14.0), (5209, 14.0), (5359, 9.0), (5446, 12.0), (5617, 1.0), (5713, 8.0), (5901, 11.0), (5995, 5.0), (6127, 2.0), (6270, 2.0), (6302, 4.0), (6470, 3.0), (6555, 3.0), (6613, 3.0), (6684, 3.0), (6761, 5.0), (6820, 5.0), (6935, 2.0), (6964, 2.0), (7076, 4.0), (7239, 4.0), (7480, 1.0), (7537, 1.0), (7599, 2.0), (7653, 4.0), (7912, 4.0), (8006, 1.0), (8129, 2.0), (8302, 86.0), (8433, 251.0), (8585, 54.0), (8628, 43.0), (8660, 61.0), (8822, 28.0), (8911, 71.0), (8954, 74.0), (9080, 143.0), (9148, 51.0), (9229, 150.0), (9383, 99.0), (9471, 19.0), (9523, 25.0), (9670, 15.0), (9797, 18.0), (9886, 6.0), (9920, 10.0), (10050, 26.0), (10102, 20.0), (10134, 23.0), (10205, 10.0), (10293, 5.0), (10644, 3.0), (10833, 2.0), (10869, 3.0), (10930, 1.0), (11111, 2.0), (11198, 2.0), (11287, 2.0), (11425, 1.0), (11587, 3.0), (11620, 1.0), (11658, 2.0), (11747, 2.0), (11823, 1.0), (11881, 1.0), (11926, 1.0)]\n"
     ]
    }
   ],
   "source": [
    "lis_pause_lis=get_local_max_signal(lis_dicts)\n",
    "print (lis_pause_lis[1][0:100])"
   ]
  },
  {
   "cell_type": "code",
   "execution_count": null,
   "metadata": {
    "collapsed": true,
    "deletable": true,
    "editable": true
   },
   "outputs": [],
   "source": []
  }
 ],
 "metadata": {
  "kernelspec": {
   "display_name": "Python 3",
   "language": "python",
   "name": "python3"
  },
  "language_info": {
   "codemirror_mode": {
    "name": "ipython",
    "version": 3
   },
   "file_extension": ".py",
   "mimetype": "text/x-python",
   "name": "python",
   "nbconvert_exporter": "python",
   "pygments_lexer": "ipython3",
   "version": "3.6.0"
  }
 },
 "nbformat": 4,
 "nbformat_minor": 2
}
