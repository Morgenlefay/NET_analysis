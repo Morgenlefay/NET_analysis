{
 "cells": [
  {
   "cell_type": "code",
   "execution_count": 2,
   "metadata": {},
   "outputs": [],
   "source": [
    "!gunzip -c netseq_tutorial/clean_Trimmed_wt-mmc.fastq.gz | bowtie -S -m 1 -v 0 indexes/NC_000913.2 '-' > wt_mmc_NET.bam 2> wt_mmc_NET.log "
   ]
  },
  {
   "cell_type": "code",
   "execution_count": null,
   "metadata": {},
   "outputs": [],
   "source": [
    "!samtools view -b -h -F 4 wt_mmc_NET.sam > wt_mmc_NET_aligned.bam"
   ]
  },
  {
   "cell_type": "code",
   "execution_count": null,
   "metadata": {},
   "outputs": [],
   "source": [
    "!samtools sort wt_mmc_NET_aligned.bam -o wt_mmc_NET_sorted.bam"
   ]
  },
  {
   "cell_type": "code",
   "execution_count": null,
   "metadata": {},
   "outputs": [],
   "source": [
    "!bedtools genomecov -d -3 -ibam wt_mmc_NET_sorted.bam -g NC_000913.2.fa > wt_mmc_NET_cov.txt\n",
    "#or\n",
    "!bedtools genomecov -bg -3 -ibam wt_mmc_NET_sorted.bam > wt_mmc_NET_cov_bg.txt"
   ]
  }
 ],
 "metadata": {
  "kernelspec": {
   "display_name": "Python [default]",
   "language": "python",
   "name": "python3"
  },
  "language_info": {
   "codemirror_mode": {
    "name": "ipython",
    "version": 3
   },
   "file_extension": ".py",
   "mimetype": "text/x-python",
   "name": "python",
   "nbconvert_exporter": "python",
   "pygments_lexer": "ipython3",
   "version": "3.5.5"
  }
 },
 "nbformat": 4,
 "nbformat_minor": 2
}
