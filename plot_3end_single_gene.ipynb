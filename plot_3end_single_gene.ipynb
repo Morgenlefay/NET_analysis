{
 "cells": [
  {
   "cell_type": "markdown",
   "metadata": {},
   "source": [
    "#### Align reads using bowtie. Filter only reads that aligned and convert the output to a bedfile\n",
    "##### Bedfile will have the positions of every read that aligned to given reference genome (in this case NC_000913.2)"
   ]
  },
  {
   "cell_type": "code",
   "execution_count": 4,
   "metadata": {},
   "outputs": [],
   "source": [
    "!bowtie -S -m 1 -v 0 indexes/NC_000913.2 netseq_data/clean_Trimmed_wt-mmc.fastq.gz 2> wt_mmc_NET.log|samtools view -b -h -F 4|bedtools bamtobed -i '-' > wt_mmc_NET_aligned_2.bed "
   ]
  },
  {
   "cell_type": "markdown",
   "metadata": {},
   "source": [
    "#### Split alignments by strand and edit the alignment bedfile so that it only keeps the 3' end of each gene\n",
    "##### 'plus_3end.bed' and 'minus_3end.bed' are the outputfiles that now only have the position of the 3' base"
   ]
  },
  {
   "cell_type": "code",
   "execution_count": 8,
   "metadata": {},
   "outputs": [],
   "source": [
    "!grep -w '+' wt_mmc_NET_aligned_2.bed|awk '{print $1\"\\t\"$2\"\\t\"($2+1)\"\\t\"\".\"\"\\t\"$5\"\\t\"$6}'> plus_3end_2.bed\n",
    "!grep -w '-' wt_mmc_NET_aligned_2.bed|awk '{print $1\"\\t\"($3-1)\"\\t\"($3)\"\\t\"\".\"\"\\t\"$5\"\\t\"$6}'> minus_3end_2.bed"
   ]
  },
  {
   "cell_type": "markdown",
   "metadata": {},
   "source": [
    "#### Import packages needed for plotting"
   ]
  },
  {
   "cell_type": "code",
   "execution_count": 120,
   "metadata": {},
   "outputs": [],
   "source": [
    "%matplotlib inline  \n",
    "import pandas as pd\n",
    "import matplotlib.pyplot as plt\n",
    "import seaborn as sns"
   ]
  },
  {
   "cell_type": "markdown",
   "metadata": {},
   "source": [
    "#### Make a pandas dataframe of each positon of the E. coli genome (index) and the corresponding 3' base counts that are present in that position."
   ]
  },
  {
   "cell_type": "code",
   "execution_count": 121,
   "metadata": {},
   "outputs": [],
   "source": [
    "p_3end=pd.read_table('plus_3end_2.bed',header=None)\n",
    "m_3end=pd.read_table('minus_3end_2.bed',header=None)\n",
    "p_counts=pd.DataFrame(p_3end[2].value_counts()).sort_index().reindex(range(1,4641653),fill_value=0)\n",
    "m_counts=pd.DataFrame(m_3end[2].value_counts()).sort_index().reindex(range(1,4641653),fill_value=0)\n"
   ]
  },
  {
   "cell_type": "markdown",
   "metadata": {},
   "source": [
    "#### Import bedfile so that gene positions can be determined (in future will also make GFF/GTF file an option)"
   ]
  },
  {
   "cell_type": "code",
   "execution_count": 122,
   "metadata": {},
   "outputs": [],
   "source": [
    "gene_annot=pd.read_csv(\"NC_000913.2.bed\",sep='\\t',header=None)"
   ]
  },
  {
   "cell_type": "markdown",
   "metadata": {},
   "source": [
    "#### Find gene of interest in the befile and store the coordinates of the gene location (in the future will make it so a list of genes can be given)"
   ]
  },
  {
   "cell_type": "code",
   "execution_count": 127,
   "metadata": {},
   "outputs": [],
   "source": [
    "gene='ivbL'\n",
    "gene_strand=gene_annot[gene_annot[4]==gene].iloc[0][5]\n",
    "gene_pos=(gene_annot[gene_annot[4]==gene].iloc[0][1],gene_annot[gene_annot[4]==gene].iloc[0][2])"
   ]
  },
  {
   "cell_type": "markdown",
   "metadata": {},
   "source": [
    "#### Only keep counts that reflect transcription happening on the sense strand"
   ]
  },
  {
   "cell_type": "code",
   "execution_count": 128,
   "metadata": {},
   "outputs": [],
   "source": [
    "if gene_strand == '+':\n",
    "    gene_plot=m_counts.iloc[gene_pos[0]:gene_pos[1],:]\n",
    "if gene_strand == '-':\n",
    "    gene_plot=p_counts.iloc[gene_pos[0]:gene_pos[1],:]"
   ]
  },
  {
   "cell_type": "markdown",
   "metadata": {},
   "source": [
    "#### Plot the counts in a barplot (reverse the orientation of the plot if gene is '-'"
   ]
  },
  {
   "cell_type": "code",
   "execution_count": 129,
   "metadata": {},
   "outputs": [
    {
     "data": {
      "text/plain": [
       "([], <a list of 0 Text xticklabel objects>)"
      ]
     },
     "execution_count": 129,
     "metadata": {},
     "output_type": "execute_result"
    },
    {
     "data": {
      "image/png": "[encoded data removed]",
      "text/plain": [
       "<Figure size 1080x144 with 1 Axes>"
      ]
     },
     "metadata": {},
     "output_type": "display_data"
    }
   ],
   "source": [
    "x=gene_plot.index.tolist()\n",
    "y=gene_plot[2].tolist()\n",
    "if gene_strand=='-':\n",
    "    y=y[::-1]\n",
    "plt.figure(figsize=(15,2))\n",
    "sns.barplot(x=x,y=y,color='blue')\n",
    "sns.despine(top=False,right=False,bottom=False,left=False)\n",
    "plt.xticks([])"
   ]
  }
 ],
 "metadata": {
  "kernelspec": {
   "display_name": "Python [default]",
   "language": "python",
   "name": "python3"
  },
  "language_info": {
   "codemirror_mode": {
    "name": "ipython",
    "version": 3
   },
   "file_extension": ".py",
   "mimetype": "text/x-python",
   "name": "python",
   "nbconvert_exporter": "python",
   "pygments_lexer": "ipython3",
   "version": "3.5.5"
  }
 },
 "nbformat": 4,
 "nbformat_minor": 2
}
