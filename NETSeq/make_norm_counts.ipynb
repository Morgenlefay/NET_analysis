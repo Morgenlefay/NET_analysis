{
 "cells": [
  {
   "cell_type": "markdown",
   "metadata": {},
   "source": [
    "## Make normalized counts of each position in the genome from a bed file\n",
    "### Note: this was made to specifically work with bedifles that only have 1bp position (in this case the 3' end of a read)\n",
    "\n",
    "### input: 3' end bedfile (or any bedfile) if the range covers the whole read rather than 1bp it will only fill in the value for the end coordinate position and the rest of the postions will show a 0 count (ex. a read in pos. 180-190 in the genome will only show a value for 190)\n",
    "\n",
    "### output: will save dataframes to csv in the directory you are currently in"
   ]
  },
  {
   "cell_type": "code",
   "execution_count": 1,
   "metadata": {},
   "outputs": [],
   "source": [
    "import pandas as pd\n",
    "import numpy as np"
   ]
  },
  {
   "cell_type": "code",
   "execution_count": 7,
   "metadata": {},
   "outputs": [],
   "source": [
    "def make_counts(file_lis,g_length):\n",
    "    for f in file_lis:\n",
    "        if 'plus' in f:\n",
    "            p_3end=pd.read_table(f,header=None)\n",
    "        else:\n",
    "            if 'minus' in f:\n",
    "                m_3end=pd.read_table(f,header=None)\n",
    "            else:\n",
    "                raise Exception('There must be one plus file and one minus file. Did not find file with plus and/or minus in the file name')\n",
    "    p_counts=pd.DataFrame(p_3end[2].value_counts()).sort_index().reindex(range(0,g_length),fill_value=0)\n",
    "    m_counts=pd.DataFrame(m_3end[2].value_counts()).sort_index().reindex(range(0,g_length),fill_value=0)\n",
    "    df=pd.concat([p_counts,m_counts],axis=1)\n",
    "    df.columns=['p_count','m_count']\n",
    "    \n",
    "    return df\n",
    "\n",
    "def make_norm_df(sample_lis,norm_lis):\n",
    "    df_lis=[]\n",
    "    for i in range(len(sample_lis)):\n",
    "        df=make_counts(['{}_plus_3end.bed'.format(sample_lis[i]),'{}_minus_3end.bed'.format(sample_lis[i])],g_length)\n",
    "        df=(df/norm_value[i])*1000000\n",
    "        df_lis.append(df)\n",
    "        print('read '+str(sample_lis[i])+' df')\n",
    "    return df_lis\n",
    "    \n",
    "\n"
   ]
  },
  {
   "cell_type": "code",
   "execution_count": 9,
   "metadata": {},
   "outputs": [
    {
     "name": "stdout",
     "output_type": "stream",
     "text": [
      "read cv02 df\n",
      "read cv05 df\n",
      "read cv06 df\n",
      "read cv09 df\n",
      "read cv10 df\n"
     ]
    }
   ],
   "source": [
    "g_length=4639675 #length of the reference genome\n",
    "sample_lis=['cv02','cv05','cv06','cv09','cv10']\n",
    "norm_lis=[13550939,8775189,8917885,13773751,13743872] #used number of aligned reads for norm value\n",
    "\n",
    "df_lis=make_norm_df(sample_lis,norm_lis)\n",
    "for i in range(len(df_lis)):\n",
    "    df_lis[i].to_csv(sample_lis[i]+\"_normcounts_perpos\",index=False)"
   ]
  },
  {
   "cell_type": "code",
   "execution_count": null,
   "metadata": {},
   "outputs": [],
   "source": []
  }
 ],
 "metadata": {
  "kernelspec": {
   "display_name": "Python [conda env:anaconda]",
   "language": "python",
   "name": "conda-env-anaconda-py"
  },
  "language_info": {
   "codemirror_mode": {
    "name": "ipython",
    "version": 3
   },
   "file_extension": ".py",
   "mimetype": "text/x-python",
   "name": "python",
   "nbconvert_exporter": "python",
   "pygments_lexer": "ipython3",
   "version": "3.5.5"
  }
 },
 "nbformat": 4,
 "nbformat_minor": 2
}
