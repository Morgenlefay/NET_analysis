{
 "cells": [
  {
   "cell_type": "markdown",
   "metadata": {},
   "source": [
    "#### Align reads using bowtie. This command will output a sam file (alignment file) and a .log file which contains the details on how the alignment went. (I need gunzip, but probably need to update bowtie)"
   ]
  },
  {
   "cell_type": "code",
   "execution_count": 2,
   "metadata": {},
   "outputs": [],
   "source": [
    "!gunzip -c netseq_data/clean_Trimmed_wt-mmc.fastq.gz | bowtie -S -m 1 -v 0 indexes/NC_000913.2 '-' > wt_mmc_NET.sam 2> wt_mmc_NET.log "
   ]
  },
  {
   "cell_type": "markdown",
   "metadata": {},
   "source": [
    "#### Convert sam to bam and only keep reads that aligned:"
   ]
  },
  {
   "cell_type": "code",
   "execution_count": null,
   "metadata": {},
   "outputs": [],
   "source": [
    "!samtools view -b -h -F 4 wt_mmc_NET.sam > wt_mmc_NET_aligned.bam"
   ]
  },
  {
   "cell_type": "markdown",
   "metadata": {},
   "source": [
    "#### Sort the bam file (required for bam input to genomecov)"
   ]
  },
  {
   "cell_type": "code",
   "execution_count": null,
   "metadata": {},
   "outputs": [],
   "source": [
    "!samtools sort wt_mmc_NET_aligned.bam -o wt_mmc_NET_sorted.bam"
   ]
  },
  {
   "cell_type": "markdown",
   "metadata": {},
   "source": [
    "#### Use bedtools genomecov to get the number of 3' end that map to each position in the genome (two types of output are possible) The latter can be used find those that intersect with genes"
   ]
  },
  {
   "cell_type": "code",
   "execution_count": null,
   "metadata": {},
   "outputs": [],
   "source": [
    "!bedtools genomecov -d -3 -ibam wt_mmc_NET_sorted.bam -g NC_000913.2.fa > wt_mmc_NET_cov.txt\n",
    "#or\n",
    "!bedtools genomecov -bg -3 -ibam wt_mmc_NET_sorted.bam > wt_mmc_NET_cov_bg.txt"
   ]
  },
  {
   "cell_type": "markdown",
   "metadata": {},
   "source": [
    "#### Use bedtools intersect to get the amount of 3' ends that map to each position of every gene"
   ]
  },
  {
   "cell_type": "code",
   "execution_count": null,
   "metadata": {},
   "outputs": [],
   "source": [
    "!bedtools intersect -wb -a wt_mmc_NET_cov_bg.bed -b NC_000913.2.gtf > intersect2.bed"
   ]
  }
 ],
 "metadata": {
  "kernelspec": {
   "display_name": "Python [default]",
   "language": "python",
   "name": "python3"
  },
  "language_info": {
   "codemirror_mode": {
    "name": "ipython",
    "version": 3
   },
   "file_extension": ".py",
   "mimetype": "text/x-python",
   "name": "python",
   "nbconvert_exporter": "python",
   "pygments_lexer": "ipython3",
   "version": "3.5.5"
  }
 },
 "nbformat": 4,
 "nbformat_minor": 2
}
